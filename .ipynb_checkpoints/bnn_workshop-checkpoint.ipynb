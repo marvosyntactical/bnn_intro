{
 "cells": [
  {
   "cell_type": "markdown",
   "metadata": {
    "id": "b2PrSCdtqHwh"
   },
   "source": [
    "# Introduction to Stochastic Variational Inference and Bayesian Neural Networks\n",
    "---\n",
    "\n",
    "* The final goal of this notebook is to understand and implement **Bayesian Neural Networks (BNNs)**.  \n",
    "* We must understand the general framework of **Bayesian/Probabilistic Machine Learning** first.  \n",
    "* This detour will contain more abstractions than `BNNs` require in the end,  \n",
    "* but it is necessary to describe the general class of optimization problems `Pyro` is built to tackle  \n",
    "* to properly understand how the bayesian machine learning framework and `Pyro` are applied to the special case of `BNNs`.\n",
    "\n",
    "The notebook therefore starts off by introducing somewhat heavy mathematical machinery,  \n",
    "which we are then going to progressively hide/abstract away with \n",
    "1. `Pyro` for arbitrary **Bayesian Machine Learning**\n",
    "2. `TyXe` for **Bayesian Neural Networks**\n",
    "\n",
    "## Outline\n",
    "\n",
    "- [Introduction](#Introduction-to-Stochastic-Variational-Inference-and-Bayesian-Neural-Networks)\n",
    "- [Outline](#Outline)\n",
    "- [Setup](#Setup)\n",
    "- [Probabilistic Machine Learning](#Probabilistic-Machine-Learning)\n",
    "  - [Probabilistic Models](#Probabilistic-Machine-Learning:-Probabilistic-Models)\n",
    "  - [Bayesian Inference](#Probabilistic-Machine-Learning:-Bayesian-Inference,-Learning-and-Evaluation)\n",
    "- [Inference in Pyro](#Inference-in-Pyro)\n",
    "  - [Stochastic Variational Inference](#Inference-in-Pyro:-Stochastic-Variational-Inference)\n",
    "  - [ELBO](#Inference-in-Pyro:-Evidence-Lower-Bound-(ELBO))\n",
    "  - [Pyro Primitives](#Inference-in-Pyro:-Pyro-Primitives)\n",
    "  - [Pyro's \"guide\" programs](#Inference-in-Pyro:-Pyro's-\"guide\"-programs)\n",
    "  - [Summary](#Inference-in-Pyro:-Pyro-Summary)\n",
    "  - [Example: Variational AutoEncoder](#Inference-in-Pyro:-Pyro-Example:-Variational-Autoencoder-(VAE))\n",
    "  - [Example: VAE.model()](#Inference-in-Pyro:-Pyro-Example:-VAE.model())\n",
    "  - [Example: VAE.guide()](#Inference-in-Pyro:-Pyro-Example:-VAE.guide())"
   ]
  },
  {
   "cell_type": "markdown",
   "metadata": {},
   "source": [
    "## Setup\n",
    "Let's make sure we have everything we need.  \n",
    "If you installed the dependencies (including ipykernel) in a virtual/conda environment,  \n",
    "`Select Kernel > Change Kernel > environmentname`"
   ]
  },
  {
   "cell_type": "code",
   "execution_count": 1,
   "metadata": {
    "id": "5sm2JAa1qHwk"
   },
   "outputs": [],
   "source": [
    "# run this cell to reset the kernel or select kernel > restart kernel\n",
    "%reset -s -f "
   ]
  },
  {
   "cell_type": "code",
   "execution_count": 2,
   "metadata": {},
   "outputs": [
    {
     "name": "stdout",
     "output_type": "stream",
     "text": [
      "Enabling notebook extension jupyter-js-widgets/extension...\n",
      "      - Validating: \u001b[32mOK\u001b[0m\n"
     ]
    }
   ],
   "source": [
    "!jupyter nbextension enable --py widgetsnbextension"
   ]
  },
  {
   "cell_type": "code",
   "execution_count": 3,
   "metadata": {
    "id": "kecozW7XqHwk"
   },
   "outputs": [],
   "source": [
    "import logging\n",
    "import os\n",
    "\n",
    "import numpy as np\n",
    "\n",
    "import matplotlib.pyplot as plt\n",
    "from matplotlib import rc\n",
    "\n",
    "import torch\n",
    "import torch.nn as nn\n",
    "import torch.utils.data as data\n",
    "import torchvision\n",
    "\n",
    "import pyro\n",
    "import pyro.distributions as dist"
   ]
  },
  {
   "cell_type": "code",
   "execution_count": 4,
   "metadata": {
    "id": "OGegVXszqHwk"
   },
   "outputs": [
    {
     "data": {
      "text/plain": [
       "False"
      ]
     },
     "execution_count": 4,
     "metadata": {},
     "output_type": "execute_result"
    }
   ],
   "source": [
    "assert pyro.__version__.startswith('1.4.0'), f\"For TyXe, pyro version must be exactly 1.4.0, not {pyro.__version__}\"\n",
    "\n",
    "pyro.distributions.enable_validation(False)\n",
    "\n",
    "# pyro.enable_validation(True)\n",
    "pyro.distributions.enable_validation(False)\n",
    "pyro.set_rng_seed(42)\n",
    "logging.basicConfig(format='%(message)s', level=logging.INFO)\n",
    "\n",
    "# Set matplotlib settings\n",
    "%matplotlib inline\n",
    "plt.style.use('default')\n",
    "\n",
    "# Is GPU available?\n",
    "USE_CUDA = torch.cuda.is_available()\n",
    "\n",
    "USE_CUDA"
   ]
  },
  {
   "cell_type": "markdown",
   "metadata": {
    "id": "wXOWkF1DqHwo"
   },
   "source": [
    "## Probabilistic Machine Learning\n",
    "\n",
    "Most data analysis problems can be understood as elaborations on three basic high-level questions:\n",
    "\n",
    "1. What do we know about the problem before observing any data? (**Priors**)\n",
    "2. What conclusions (**inferences**) can we draw from data given our prior knowledge? (**Posteriors**)\n",
    "3. Do these conclusions make sense? (**Uncertainty Quantification**)\n",
    "\n",
    "In the probabilistic or **Bayesian approach** to data science and machine learning,  \n",
    "we formalize these in terms of mathematical operations on **probability distributions**."
   ]
  },
  {
   "cell_type": "markdown",
   "metadata": {
    "id": "wXOWkF1DqHwo"
   },
   "source": [
    "* $\\mathbb{P}$: Models built in the language of __probability__ can capture complex reasoning, know what they do not know, and uncover structure in data without supervision.\n",
    "* __PPLs__: Specifying probabilistic models directly can be cumbersome, error-prone and repetitious. __Probabilistic programming languages (PPLs)__ solve these problems by marrying probability with the representational power of programming languages. A probabilistic program is a mix of ordinary deterministic computation and randomly sampled values representing a __generative process__ for data.\n",
    "* __Inference__: By observing the outcome of a probabilistic program, we can describe an __inference__ problem, roughly translated as: “what must be true if this random choice had a certain observed value?”  \n",
    "__PPLs__ explicitly enforce a separation of concerns already implicit in the mathematics of probability between  \n",
    "1. the specification of a __model__,  \n",
    "2. a __query__ to be answered, and  \n",
    "3. an __algorithm__ for computing the answer.\n",
    "* __Pyro__: is a __PPL__ built on Python and __PyTorch__. Pyro programs are just Python programs, while its main inference technology is __stochastic variational inference__, which converts abstract probabilistic computations into concrete __optimization problems__ solved with stochastic gradient descent in PyTorch, making probabilistic methods applicable to previously intractable model and dataset sizes."
   ]
  },
  {
   "cell_type": "markdown",
   "metadata": {
    "id": "wXOWkF1DqHwo"
   },
   "source": [
    "### Probabilistic Models\n",
    "\n",
    "First, we express everything we know about the variables in a problem and the relationships between them in the form of a ***probabilistic model***, or a joint probability distribution over a collection of random variables. A model has observations ${\\bf x}$ and latent random variables ${\\bf z}$ as well as parameters $\\theta$. It usually has a joint density function of the form \n",
    "\n",
    "$$p_{\\theta}({\\bf x}, {\\bf z}) = p_{\\theta}({\\bf x}|{\\bf z}) p_{\\theta}({\\bf z})$$\n",
    "\n",
    "The distribution over latent variables $p_{\\theta}({\\bf z})$ in this formula is called the ***prior***, and the distribution over observed variables given latent variables $p_{\\theta}({\\bf x}|{\\bf z})$ is called the ***likelihood***.\n",
    "\n",
    "We typically require that the various conditional probability distributions $p_i$ that make up a model $p_{\\theta}({\\bf x}, {\\bf z})$ have the following properties (generally satisfied by the distributions available in [Pyro](http://docs.pyro.ai/en/stable/distributions.html) and [PyTorch Distributions](https://pytorch.org/docs/stable/distributions.html)):\n",
    "\n",
    "- we can efficiently sample from each $p_i$\n",
    "- we can efficiently compute the pointwise probability density $p_i$ \n",
    "- $p_i$ is differentiable w.r.t. the parameters $\\theta$\n",
    "\n",
    "Probabilistic models are often depicted in a standard graphical notation ([Bayesian Networks](https://en.wikipedia.org/wiki/Bayesian_network)) for visualization and communication, summarized below, although it is possible in Pyro to represent models that do not have a fixed graphical structure. In models with lots of repetition, it is convenient to use ***plate*** notation, so called because it is shown graphically as a rectangular \"plate\" around variables to indicate multiple independent copies (\"__iid__\") of the random variables inside."
   ]
  },
  {
   "cell_type": "markdown",
   "metadata": {},
   "source": [
    "<img src=\"img/model.png\" width=\"600\" align=\"middle\">\n",
    "\n",
    "`Pyro >= 1.8.0` supports rendering arbitrary functions containing `Pyro` expressions as graphical models using `pyro.render_model(function, model_args=(x,y))`"
   ]
  },
  {
   "cell_type": "markdown",
   "metadata": {
    "id": "wXOWkF1DqHwo"
   },
   "source": [
    "### Bayesian Inference, Learning and Evaluation\n",
    "\n",
    "Once we have specified a model, Bayes' rule tells us how to use it to perform ***inference***, or draw conclusions about latent variables from data, by computing the ***posterior distribution*** over $\\bf z$\n",
    "\n",
    "$$ p_{\\theta}({\\bf z} | {\\bf x}) = \\frac{p_{\\theta}({\\bf x} , {\\bf z})}{\n",
    "\\int \\! p_{\\theta}({\\bf x} , {\\bf z})\\; d{\\bf z} } $$\n",
    "\n",
    "To check the results of modeling and inference, we would like to know how well a model fits observed data $x$, which we can quantify with the ***evidence*** (or ***marginal likelihood***)\n",
    "\n",
    "$$p_{\\theta}({\\bf x}) = \\int \\!  p_{\\theta}({\\bf x} , {\\bf z})\\; d{\\bf z} $$\n",
    "\n",
    "and also to make predictions for new data (and __sample__ new data points!), which we can do with the ***posterior predictive distribution***\n",
    "\n",
    "$$p_{\\theta}(x' | {\\bf x}) = \\int \\!  p_{\\theta}(x' | {\\bf z}) p_{\\theta}({\\bf z} | {\\bf x})\\; d{\\bf z} $$\n",
    "\n",
    "It is often desirable to ***learn*** the parameters $\\theta$ of our models from observed data $x$, which we can do by **maximizing** the evidence:\n",
    "\n",
    "$$\\theta_{\\rm{max}} = \\rm{argmax}_\\theta p_{\\theta}({\\bf x}) = \\rm{argmax}_\\theta \\int \\!  p_{\\theta}({\\bf x} , {\\bf z}) \\; d{\\bf z} $$"
   ]
  },
  {
   "cell_type": "markdown",
   "metadata": {
    "id": "PBKAeDaoqHwo"
   },
   "source": [
    "### Some Bayesian Inference Algorithms\n",
    "\n",
    "One naive way to set the parameters $\\theta$ is **Maximum Likelihood Estimation** (MLE):\n",
    "\n",
    "$$\\theta_{\\rm{max}} = \\rm{argmax}_\\theta p_{\\theta}({\\bf x} | {\\bf z})$$\n",
    "\n",
    "\n",
    "The converse of MLE is to maximize the posterior, this is called **Maximum-a-posteriori Estimation (MAP)** and requires picking a **Prior** $p_\\theta({\\bf z})$:\n",
    "$$ \\theta_{\\rm{max}} = \\rm{argmax}_\\theta p_\\theta({\\bf z} | {\\bf x}) = \\rm{argmax}_\\theta \\frac{p_\\theta({\\bf x} | {\\bf z}) p_\\theta({\\bf z})}{\n",
    "\\int_Z \\! p_\\theta({\\bf x} | {\\bf z})p_\\theta({\\bf z})\\; d{\\bf z} } = \\rm{argmax}_\\theta  p_\\theta({\\bf x} | {\\bf z} ) p_\\theta({\\bf z}) $$\n",
    "\n",
    "(Wee see that **Bayes Theorem** implies **MLE** is actually the most naive case of **MAP** with the **Prior** $p_\\theta({\\bf z})$ being uniform!)\n",
    "\n",
    "\n",
    "* Non-Bayesian Machine Learning is just **MLE**.\n",
    "* Many more Bayesian Inference Algorithms exist, also e.g. [Expectation Maximization](https://en.wikipedia.org/wiki/Expectation%E2%80%93maximization_algorithm), see also the [List of Pyro's built in Inference Algorithms](https://docs.pyro.ai/en/stable/inference.html)\n",
    "* The algorithm we care about is Stochastic variational inference.\n",
    "\n",
    "## Inference in Pyro\n",
    "\n",
    "### Stochastic Variational Inference (SVI)\n",
    "\n",
    "* __Problem__: To get any of the quantities above __exactly__ (especially the **posterior**) requires performing integrals that are __impossible or computationally intractable__\n",
    "* __Solution__: `Pyro` supports many different __approximate__ inference algorithms; the flagship is stochastic variational inference __(SVI)__\n",
    "* __SVI__ is a very general algorithm for finding $\\theta_{\\rm{max}}$ and computing a **tractable approximation** $q_{\\phi}({\\bf z})$ to the **true, unknown posterior** $p_{\\theta_{\\rm{max}}}({\\bf z} | {\\bf x})$ \n",
    "* Mathematicians call $q_{\\phi}({\\bf z})$ **variational distribution** or **approximate posterior**; `Pyro` calls this **guide**\n",
    "* __SVI__ converts the intractable integrals into optimization of a functional of $p_\\theta$ and $q_\\phi$ \n",
    "* More precise, mathematical discussion & references in Pyro's [SVI tutorials](http://pyro.ai/examples/svi_part_i.html)\n",
    "---\n",
    "#### Graphically:\n",
    "* Most distributions, especially <font color='DarkRed'>Bayesian posterior distributions</font>, too complex to represent directly\n",
    "* In __SVI__, we define a smaller subspace/family, indexed by real-valued parameters $\\phi$, of distributions $q_{\\phi}({\\bf z})$  \n",
    "that are by construction **easy to sample from** (e.g. family of gaussians)\n",
    "* However, this family of distributions may not include the true posterior distribution $p_{\\theta}({\\bf z} | {\\bf x})$\n",
    "* __SVI__ approximates the true posterior by searching the space of **variational distributions**  \n",
    "to find <font color='DarkGoldenRod'>one that is most similar</font> to the <font color='DarkRed'>true posterior</font> according to some measure of distance:"
   ]
  },
  {
   "cell_type": "markdown",
   "metadata": {},
   "source": [
    "<img src=\"img/guide1.png\" width=\"400\" align=\"middle\">"
   ]
  },
  {
   "cell_type": "markdown",
   "metadata": {
    "id": "PBKAeDaoqHwo"
   },
   "source": [
    "* Many different choices of distance measures between probability distributions! Which one should we choose?\n",
    "* As in the figure, a theoretically appealing choice is the (non-negative) [Kullback-Leibler divergence](https://en.wikipedia.org/wiki/Kullback%E2%80%93Leibler_divergence) (KL divergence)\n",
    "$$KL(q_{\\phi}({\\bf z}) || p_{\\theta}({\\bf z} | {\\bf x})):= \\mathbb{E}_{q_\\phi(z)}\\left [log\\frac{q_\\phi(z)}{p_\\theta(z|x)}\\right]$$\n",
    "* __Problems__ raised by this: \n",
    "1. Computing this $KL$ directly requires knowing the true posterior $p_{\\theta}({\\bf z} | {\\bf x})$  ahead of time, which defeats the purpose.\n",
    "2. This would require the integral over the evidence $p_\\theta(x)$ we are trying to avoid!\n",
    "3. Also, we want to minimize this distance, which is even harder!\n",
    "* __Solution__: It turns out we can rewrite this $KL$ as the difference between  \n",
    "the log evidence $\\log p_\\theta(x)$,  which does not depend on $q_{\\phi}$,   \n",
    "and a tractable term called the ***evidence lower bound (ELBO)***:\n",
    "$$KL = log\\;evidence - ELBO$$\n",
    "* For the very short derivation see e.g. [this blog post](https://mbernste.github.io/posts/elbo/)\n",
    "* Just from the eqn. above, and since $KL\\geq0$, some practical things follow:\n",
    "1. The ELBO really is a **lower bound of the (log) evidence**:\n",
    "$$ELBO = log\\;evidence - KL \\Rightarrow ELBO \\leq log\\;evidence$$\n",
    "2. So if we take (stochastic) gradient steps to maximize the ELBO, we will also be pushing the log evidence higher (in expectation)!\n",
    "3. Maximizing the ELBO will produce the same solution as minimizing the original KL-divergence!\n",
    "\n"
   ]
  },
  {
   "cell_type": "markdown",
   "metadata": {
    "id": "PBKAeDaoqHwo"
   },
   "source": [
    "### Evidence Lower Bound (ELBO)\n",
    "\n",
    "* The **ELBO**, which is a function of both $\\theta$ and $\\phi$, is defined as an expectation w.r.t. to samples from the guide:\n",
    "$$\\mathcal{L}(\\theta,\\phi;x) := \\mathbb{E}_{q_{\\phi}({\\bf z})} \\left [ \n",
    "\\log \\frac{p_{\\theta}({\\bf x}, {\\bf z})}{q_{\\phi}({\\bf z})} \n",
    "\\right] = \\int_Z q_\\phi({\\bf z}) (\\log p_{\\theta}({\\bf x}, {\\bf z}) - \\log q_{\\phi}({\\bf z})) d{\\bf z}\n",
    " $$\n",
    "* We can compute the log probabilities inside the expectation. (Because this time we avoid the posterior!)\n",
    "* Whats more, since we picked a parametric distribution we can __sample__ from as our guide, we can compute __Monte Carlo estimates__ of the **ELBO**!\n",
    "* For a fixed $\\theta$, as we take steps in $\\phi$ space that increase the **ELBO**, we decrease the KL divergence between the guide and the posterior\n",
    "* i.e. such a step moves the guide towards the posterior\n",
    "* Actually, we take gradient steps in both $\\theta$ and $\\phi$ space simultaneously so that the __guide and model play chase__, with the guide tracking a moving posterior $\\log p_{\\theta}({\\bf z} | {\\bf x})$. \n",
    "* The optimization done by __SVI__ is that each training iteration:\n",
    "1. a step in 𝜙−space is taken that moves the guide closer to the posterior.\n",
    "2. a step in 𝜃−space is taken that moves the posterior closer to the guide.\n",
    "* Despite the moving target, this optimization problem can be solved (to a suitable level of approximation) for many different problems.\n",
    "\n",
    "So at high level variational inference is easy/always the same: all we need to do is define a guide and compute gradients of the **ELBO**!"
   ]
  },
  {
   "cell_type": "markdown",
   "metadata": {
    "id": "l6dRubBtqHwq"
   },
   "source": [
    "### Pyro Primitives\n",
    "Probabilistic models in Pyro are specified as Python functions, e.g. `model(*args, **kwargs)`,  \n",
    "that generate observed data from latent variables using [special primitive functions](https://docs.pyro.ai/en/stable/primitives.html)  \n",
    "whose behavior can be changed by Pyro's internals depending on the high-level computation being performed.\n",
    "\n",
    "Specifically, the different mathematical pieces of `model()` and `guide()` are encoded via the mapping:\n",
    "\n",
    "1. latent random variables $z$ $\\Longleftrightarrow$ [pyro.sample](https://docs.pyro.ai/en/stable/primitives.html#pyro.primitives.sample)\n",
    "2. observed random variables $x$ $\\Longleftrightarrow$ [pyro.sample](https://docs.pyro.ai/en/stable/primitives.html#pyro.primitives.sample) with the `obs` keyword argument (__model only__)\n",
    "3. learnable parameters $\\theta$ $\\Longleftrightarrow$ [pyro.param](https://docs.pyro.ai/en/stable/primitives.html#pyro.primitives.param) (attribute of `pyro.nn.module`)\n",
    "4. plates (iid copies) $\\Longleftrightarrow$ [pyro.plate](https://docs.pyro.ai/en/stable/primitives.html#pyro.primitives.plate) context managers\n",
    "\n",
    "### Pyro's \"guide\" programs\n",
    "\n",
    "* Just like the `model(...)`, a guide is encoded as a Python program `guide(...)` that contains `pyro.sample` and `pyro.param` statements.\n",
    "* Pyro allows guides to contain arbitrary python code!\n",
    "* This opens up the possibility of writing guide families that capture more of the <font color='DarkGreen'>problem-specific structure</font> of the true posterior\n",
    "* This allows us to encode our knowledge about the posterior and potentially expand the search space:"
   ]
  },
  {
   "cell_type": "markdown",
   "metadata": {},
   "source": [
    "<img src=\"img/guide2.png\" width=\"400\" align=\"middle\">"
   ]
  },
  {
   "cell_type": "markdown",
   "metadata": {
    "id": "l6dRubBtqHwq"
   },
   "source": [
    "#### Restrictions on guides\n",
    "\n",
    "* Since the guide approximates the posterior $p_{\\theta_{\\rm{max}}}({\\bf z} | {\\bf x})$, it needs to provide a __valid joint probability density__ over all the __latent random variables z__ in the model\n",
    "* When random variables are specified in `Pyro` with the primitive statement `pyro.sample()` the first argument is the name of the random variable\n",
    "* These names will be used to align the random variables in the model and guide.\n",
    "* To be very explicit, if the model contains a random variable `z_1` without the `obs=` keyword,\n",
    "\n",
    "\n",
    "```python\n",
    "def model():\n",
    "    pyro.sample(\"z_1\", ...)\n",
    "```\n",
    "\n",
    "then the guide __MUST__ have a matching `sample` statement\n",
    "\n",
    "```python\n",
    "def guide():\n",
    "    pyro.sample(\"z_1\", ...)\n",
    "```\n",
    "\n",
    "The distributions used in the two cases can be different, but the names must line-up 1-to-1. \n",
    "* The guide may _not_ contain observed data (`obs=` keyword), since the guide needs to be a properly normalized distribution so that it is easy to sample from!\n",
    "* Furthermore, `model()` and `guide()` should take the same arguments\n",
    "\n",
    "* __Problem__: Writing out guides by hand is difficult and tedious \n",
    "* __Solution__: Use ***autoguides***, which automatically generate common guide families given arbritrary models. See [pyro.infer.autoguide](https://docs.pyro.ai/en/stable/infer.autoguide.html) and below.\n"
   ]
  },
  {
   "cell_type": "markdown",
   "metadata": {
    "id": "l6dRubBtqHwq"
   },
   "source": [
    "### Pyro Summary\n",
    "\n",
    "* The automatic generation of good default guides **automatically** for **abritrary** stochastic model() functions is another of `Pyro`'s selling points\n",
    "* Further, `Pyro` contains **[powerful high level abstractions](https://docs.pyro.ai/en/stable/poutine.html)** that change the behavior of the model and guide  \n",
    "* without having to reimplement model and guide.\n",
    "* This also means we can change between [Pyro's various inference algorithms](https://docs.pyro.ai/en/stable/inference.html) on the fly or implement one.\n",
    "* Most of the other inference algorithms don't even need a `guide`.\n",
    "* For many, many more examples, see the [Pyro examples](http://pyro.ai/examples/) and [Docs & Contributed Examples](https://docs.pyro.ai/en/stable/)."
   ]
  },
  {
   "cell_type": "markdown",
   "metadata": {
    "id": "l6dRubBtqHwq"
   },
   "source": [
    "### Pyro Example: Variational Autoencoder (VAE)\n",
    "\n",
    "* Before we turn to BNNs, let's briefly look at what a more typical deep model with latent variables looks like in `Pyro`.    \n",
    "* The most general class of such models may be the __Variational Autoencoder (VAE)__.  \n",
    "* Introduced by [Kingma & Welling (2013)](https://arxiv.org/abs/1312.6114v10), the __VAE__ s were the first deep models which reduced the variance in the gradient of the ELBO sufficiently.\n",
    "\n",
    "Please note:\n",
    "* This section shows how one would write a **guide** explicitly  \n",
    "* Therefore, it won't necessarily be shorter than [a PyTorch VAE implementation](https://github.com/pytorch/examples/blob/master/vae/main.py)\n",
    "* But keep in mind `Pyro`s abovementioned advantages.\n",
    "* The below model and comments are taken from the [Pyro VAE Tutorial](http://pyro.ai/examples/vae.html)."
   ]
  },
  {
   "cell_type": "code",
   "execution_count": 5,
   "metadata": {},
   "outputs": [],
   "source": [
    "# ---- VAE example on MNIST's handwritten digit data ----\n",
    "\n",
    "from vae import Encoder, Decoder # appropriate torch.nn.Modules\n",
    "\n",
    "class VAE(nn.Module):\n",
    "    \n",
    "    def __init__(self, z_dim=50, hidden_dim=400, use_cuda=False):\n",
    "        super().__init__()\n",
    "        # create the encoder and decoder networks\n",
    "        self.encoder = Encoder(z_dim, hidden_dim)\n",
    "        self.decoder = Decoder(z_dim, hidden_dim)\n",
    "\n",
    "        if use_cuda:\n",
    "            # calling cuda() here will put all the parameters of\n",
    "            # the encoder and decoder networks into gpu memory\n",
    "            self.cuda()\n",
    "        self.use_cuda = use_cuda\n",
    "        self.z_dim = z_dim\n",
    "\n",
    "    # define the model p(x|z)p(z)\n",
    "    def model(self, x):\n",
    "        # register PyTorch module `decoder` with Pyro\n",
    "        pyro.module(\"decoder\", self.decoder)\n",
    "        \n",
    "        # this context makes the samples in the batch independent:\n",
    "        with pyro.plate(\"data\", x.shape[0]):\n",
    "            \n",
    "            # setup parameters for gaussian prior p(z)\n",
    "            z_loc = x.new_zeros(torch.Size((x.shape[0], self.z_dim)))\n",
    "            z_scale = x.new_ones(torch.Size((x.shape[0], self.z_dim)))\n",
    "            \n",
    "            # sample from prior (value will also be sampled by guide when computing the ELBO)\n",
    "            z = pyro.sample(\"latent\", dist.Normal(z_loc, z_scale).to_event(1))\n",
    "            # dist.to_event(n) declares the n rightmost dimensions as being RVs, the rest are batch dimensions\n",
    "            \n",
    "            # decode the latent code z\n",
    "            img = self.decoder(z)\n",
    "            \n",
    "            # score against actual images \n",
    "            # (results in reconstruction loss = log likelihood for decoder)\n",
    "            pyro.sample(\"obs\", dist.Bernoulli(img).to_event(1), obs=x.reshape(-1, 784)) # bernoulli to sample black/white\n",
    "            \n",
    "            # return the img only so that we can visualize it later\n",
    "            return img"
   ]
  },
  {
   "cell_type": "markdown",
   "metadata": {
    "id": "l6dRubBtqHwq"
   },
   "source": [
    "#### `VAE.model(x)`\n",
    "Note that `model()` is a callable that takes in a mini-batch of images `x` as input. This is a `torch.Tensor` of size `batch_size` x 784.\n",
    "\n",
    "The first thing we do inside of `model()` is to register the (previously instantiated) decoder module with Pyro.  \n",
    "Note that we give it an appropriate (and unique) name.  \n",
    "This call to `pyro.module` lets Pyro know about all the parameters inside of the decoder network. \n",
    "\n",
    "Next we setup the hyperparameters for our prior, which is just a multivariate standard normal.  \n",
    "Note that:\n",
    "- we designate independence in the batch dimension (i.e. the leftmost dimension) via `pyro.plate`.\n",
    "- The call `.to_event(1)` when sampling from the latent `z` tells pyro the rightmost dimension is multivariate. See `Pyro`s [Tensor Shapes](http://pyro.ai/examples/tensor_shapes.html) tutorial for more details.\n",
    "- in case we're on GPU, we use `new_zeros` and `new_ones` to ensure that newly created tensors are on the same GPU device.\n",
    "\n",
    "Next we sample the latent `z` from the prior, making sure to give the random variable a unique Pyro name `'latent'`.  \n",
    "Then we pass `z` through the decoder network, which returns `loc_img`.  \n",
    "We then score the observed images in the mini-batch `x` against the Bernoulli likelihood parametrized by `loc_img`.  \n",
    "`VAE.model(x)` as a graphical model:\n",
    "<img src=\"img/vae_model.png\" width=\"200\" align=\"middle\">"
   ]
  },
  {
   "cell_type": "code",
   "execution_count": 6,
   "metadata": {},
   "outputs": [],
   "source": [
    "    # define the guide (i.e. variational distribution) q(z|x)\n",
    "    def guide(self, x):\n",
    "        # register PyTorch module `encoder` with Pyro\n",
    "        pyro.module(\"encoder\", self.encoder)\n",
    "        with pyro.plate(\"data\", x.shape[0]):\n",
    "            # use the encoder to get the parameters used to define q(z|x)\n",
    "            z_loc, z_scale = self.encoder(x)\n",
    "            \n",
    "            # sample the latent code z\n",
    "            pyro.sample(\"latent\", dist.Normal(z_loc, z_scale).to_event(1))\n",
    "\n",
    "VAE.guide = guide"
   ]
  },
  {
   "cell_type": "markdown",
   "metadata": {
    "id": "l6dRubBtqHwq"
   },
   "source": [
    "#### `VAE.guide(x)`\n",
    "\n",
    "* Just like in the model, we first register the PyTorch module we're using (namely `encoder`) with Pyro.  \n",
    "* We take the mini-batch of images `x` and pass it through the encoder.  \n",
    "* Then, using the parameters output by the encoder network we use the normal distribution to sample a value of the latent for each image in the mini-batch.\n",
    "* Crucially, we must use the same name for the latent random variable as we did in the model: `'latent'`. \n",
    "* Also, note the use of `pyro.plate` to designate independence of the mini-batch dimension, and `.to_event(1)` to enforce dependence on `z_dims`, exactly as we did in the model.\n",
    "\n",
    "`VAE.guide(x)` as a graphical model:\n",
    "<img src=\"img/vae_guide.png\" width=\"200\" align=\"middle\">\n",
    "\n",
    "* From the implementation and the graphical model we can see that the guide depends on $x$, i.e. it's $q_\\phi(z|x)$. \n"
   ]
  },
  {
   "cell_type": "markdown",
   "metadata": {
    "id": "l6dRubBtqHwq"
   },
   "source": [
    "Now that we've defined the full model and guide inside our `torch.nn.Module` `VAE` we can move on to inference:"
   ]
  },
  {
   "cell_type": "code",
   "execution_count": 7,
   "metadata": {},
   "outputs": [
    {
     "name": "stdout",
     "output_type": "stream",
     "text": [
      "[epoch 000] average training loss: 178.6274\n",
      "[epoch 000] average test loss: 144.3237\n"
     ]
    }
   ],
   "source": [
    "from utils import make_loaders_mnist\n",
    "from vae import train\n",
    "from vae import evaluate\n",
    "\n",
    "# Run options\n",
    "smoke_test = True # short run\n",
    "LEARNING_RATE = 1.0e-3\n",
    "\n",
    "# Run only for a single iteration for testing\n",
    "NUM_EPOCHS = 1 if smoke_test else 100\n",
    "TEST_FREQUENCY = 5\n",
    "\n",
    "# load MNIST\n",
    "train_loader, test_loader = make_loaders_mnist(\n",
    "    batch_size=32,\n",
    "    use_cuda=USE_CUDA\n",
    ")\n",
    "\n",
    "# clear pyro's global parameter store\n",
    "pyro.clear_param_store()\n",
    "\n",
    "# setup the VAE\n",
    "vae = VAE(\n",
    "    z_dim=10,\n",
    "    hidden_dim=40,    \n",
    "    use_cuda=USE_CUDA\n",
    ")\n",
    "\n",
    "# setup the optimizer\n",
    "adam_args = {\"lr\": LEARNING_RATE}\n",
    "optimizer = pyro.optim.Adam(adam_args)\n",
    "\n",
    "# setup the stochastic variational inference algorithm\n",
    "svi = pyro.infer.SVI(vae.model, vae.guide, optimizer, loss=pyro.infer.Trace_ELBO())\n",
    "\n",
    "train_elbo = []\n",
    "test_elbo = []\n",
    "\n",
    "# training loop\n",
    "for epoch in range(NUM_EPOCHS):\n",
    "    # simply calls svi.step(batch) as train loop\n",
    "    total_epoch_loss_train = train(svi, train_loader, use_cuda=USE_CUDA)\n",
    "    train_elbo.append(-total_epoch_loss_train)\n",
    "    print(\"[epoch %03d] average training loss: %.4f\" % (epoch, total_epoch_loss_train))\n",
    "\n",
    "    if epoch % TEST_FREQUENCY == 0:\n",
    "         # simply calls svi.evaluate_loss(batch) as test loop\n",
    "        total_epoch_loss_test = evaluate(svi, test_loader, use_cuda=USE_CUDA)\n",
    "        test_elbo.append(-total_epoch_loss_test)\n",
    "        print(\"[epoch %03d] average test loss: %.4f\" % (epoch, total_epoch_loss_test))"
   ]
  },
  {
   "cell_type": "markdown",
   "metadata": {
    "id": "l6dRubBtqHwq"
   },
   "source": [
    "### Pyro Example: Model Evaluation\n",
    "(Bayesian model evaluation with posterior predictive checks)  \n",
    "\n",
    "* To assess whether we can trust the results of our inference, we can compare the **posterior predictive distribution** over new data learned by our model to the existing observed data.  \n",
    "* Computing this distribution is intractable in general because it depends on knowing the true posterior. \n",
    "* But now we can easily approximate it using our approximate posterior obtained from variational inference:\n",
    "\n",
    "$$p_{\\theta}(x' | {\\bf x}) = \\int \\! p_{\\theta}(x' | {\\bf z}) p_{\\theta}({\\bf z} | {\\bf x})\\; d{\\bf z}\n",
    "\\approx \\int \\! p_{\\theta}(x' | {\\bf z}) q_{\\phi}({\\bf z} | {\\bf x})\\; d{\\bf z}$$\n",
    "\n",
    "* Concretely, to draw an approximate sample from the posterior predictive, we simply draw a sample ${\\hat {\\bf z}} \\sim q_{\\phi}({\\bf z})$ from the approximate posterior,  \n",
    "* then sample from the distribution over observed variables in our model given that sample $x' \\sim p_{\\theta}(x | {\\hat {\\bf z}})$, as if we had replaced the prior with our (approximate) posterior."
   ]
  },
  {
   "cell_type": "code",
   "execution_count": 8,
   "metadata": {},
   "outputs": [
    {
     "data": {
      "image/png": "[encoded data removed]",
      "text/plain": [
       "<Figure size 2000x500 with 36 Axes>"
      ]
     },
     "metadata": {},
     "output_type": "display_data"
    }
   ],
   "source": [
    "# plot example images\n",
    "\n",
    "row = 12\n",
    "column = 3\n",
    "plt.figure(figsize=(20,5))\n",
    "\n",
    "mock_input = torch.zeros([1, 784]) # does not matter, check VAE.model\n",
    "\n",
    "for i in range(1, row * column +1):\n",
    "    plt.subplot(column, row, i) \n",
    "\n",
    "    # get img from the model.\n",
    "    # model samples internally and practically ignores mock_input\n",
    "    sample_img = vae.model(mock_input) # p(img|z)p(z) \n",
    "    \n",
    "    img = sample_img[0].view(28, 28).cpu().data.numpy()\n",
    "    plt.xticks([])\n",
    "    plt.yticks([]) \n",
    "    plt.imshow(img, cmap=\"gray\")"
   ]
  },
  {
   "cell_type": "code",
   "execution_count": 9,
   "metadata": {},
   "outputs": [],
   "source": [
    "# time for a coffee pause? :)"
   ]
  },
  {
   "cell_type": "markdown",
   "metadata": {
    "id": "l6dRubBtqHwq"
   },
   "source": [
    "## Bayesian Neural Networks (BNNs)\n",
    "\n",
    "* Now that we've discussed **SVI** in general, it is straightforward to apply it to the case of BNNs.  \n",
    "* Instead of learning model weights $\\theta$ to parameterize distributions of latent variables $z$,  \n",
    "* we are now going to **be bayesian about the model weights themselves**,  \n",
    "* i.e. in all above formulae we **reinterpret** the variables:\n",
    "1. ${\\bf z}$ now means (already learned) neural network model **weights**\n",
    "2. $\\theta$ now means **learnable distribution parameters** (usually: (multivariate) scale and location of **gaussians**)\n",
    "\n",
    "The training workflow for `BNN`s is that\n",
    "1. We take a given neural network, usually pretrained using __MLE__,   \n",
    "2. We replace all weights with **gaussians priors**,\n",
    "3. Then guide the network with a **gaussian guide** with means initialized to the pretrained weights, \n",
    "4. Learning the parameters of the gaussians.  \n",
    "\n",
    "Usually we fix the means and only learn the variance."
   ]
  },
  {
   "cell_type": "markdown",
   "metadata": {
    "id": "l6dRubBtqHwq"
   },
   "source": [
    "### Bayesian ResNet in `Pyro`\n",
    "\n",
    "* Theoretically, it is straightforward to adapt a given deep neural maximum likelihood estimator to be a BNN. \n",
    "* Let's see how we would do this in `Pyro`, practically.\n",
    "* Code adapted from Appendix B of the [TyXe Paper](https://arxiv.org/abs/2110.00276)\n",
    "* Pay attention to the three Bayesian ingredients we have to pick:\n",
    "* **Likelihood**, **Prior** and **Guide**"
   ]
  },
  {
   "cell_type": "code",
   "execution_count": 10,
   "metadata": {},
   "outputs": [
    {
     "name": "stdout",
     "output_type": "stream",
     "text": [
      "Files already downloaded and verified\n",
      "Files already downloaded and verified\n",
      "Using downloaded and verified file: ./data/test_32x32.mat\n",
      "Batch acc = 0.34375\n",
      "Batch acc = 0.15625\n",
      "Batch acc = 0.21875\n",
      "Batch acc = 0.28125\n",
      "Batch acc = 0.3125\n",
      "Batch acc = 0.21875\n",
      "Batch acc = 0.25\n",
      "Batch acc = 0.125\n",
      "Batch acc = 0.21875\n",
      "Batch acc = 0.28125\n"
     ]
    }
   ],
   "source": [
    "# dataset helper functions\n",
    "from utils import make_loaders_bnns, make_net\n",
    "\n",
    "dataset = \"cifar10\"\n",
    "\n",
    "# take an existing torch.nn.Module:\n",
    "resnet: torch.nn.Module = make_net(dataset, \"resnet18\", pretrained=False) # may be pretrained\n",
    "# make_net only reshapes final layer of torchvision.models.resnet18()\n",
    "\n",
    "# initialize gaussian means using these:\n",
    "weights = resnet.state_dict()\n",
    "\n",
    "# convert it to pyro module inplace\n",
    "pyro.nn.module.to_pyro_module_(resnet)\n",
    "\n",
    "# define the prior p(weights) to be gaussian\n",
    "for m in resnet.modules():\n",
    "    # replace weights and biases of \n",
    "    # fully connected and convolutional modules\n",
    "    # (do not be bayesian about batchnorms)\n",
    "    if isinstance(m, (nn.Linear, nn.Conv2d)):\n",
    "        # PyroSample Modules sample on their forward pass,\n",
    "        # and their parameters theta get trained by SVI\n",
    "        m.weight = pyro.nn.PyroSample(\n",
    "            dist.Normal(\n",
    "                torch.zeros_like(m.weight),\n",
    "                torch.ones_like(m.weight)\n",
    "            ).to_event()\n",
    "        )\n",
    "        if m.bias is not None:\n",
    "            m.bias = pyro.nn.PyroSample(\n",
    "                dist.Normal(\n",
    "                    torch.zeros_like(m.bias),\n",
    "                    torch.ones_like(m.bias)\n",
    "                ).to_event()\n",
    "            )\n",
    "\n",
    "# define the model p(data | weights) * p(weights)\n",
    "def model(x, y=None):\n",
    "    logits = resnet(x) # forward samples from priors\n",
    "    \n",
    "    # define the likelihood p(data | weights)\n",
    "    with pyro.plate(\"data_plate\", x.shape[0]):\n",
    "        # context for IID\n",
    "        \n",
    "        # log likelihood reconstruction loss\n",
    "        pyro.sample(\"data\", dist.Categorical(logits=logits), obs=y)\n",
    "        \n",
    "        # return for prediction only:\n",
    "        return logits\n",
    "\n",
    "# define the guide q(weights) to be gaussian\n",
    "guide = pyro.infer.autoguide.AutoNormal(\n",
    "    model,\n",
    "    init_scale=1e-4, # initialize the variances uniformly (vars=phi above)\n",
    "    init_loc_fn=pyro.infer.autoguide.init_to_value(values=weights) # init gauss means to pretrained weights\n",
    ")\n",
    "\n",
    "# an optimizer can be taken from pyro.optim (wrapper around torch.optim API)\n",
    "optim = pyro.optim.Adam({\"lr\": 1e-3})\n",
    "\n",
    "# set up stochastic variational inference\n",
    "svi = pyro.infer.SVI(\n",
    "    model,\n",
    "    guide,\n",
    "    optim,\n",
    "    pyro.infer.Trace_ELBO() # objective function\n",
    ")\n",
    "\n",
    "# load cifar data\n",
    "train_loader, test_loader, _ = make_loaders_bnns(\n",
    "    dataset, \"./data\", 32, 32, False, False \n",
    ")\n",
    "\n",
    "# fit the BNN\n",
    "num_epochs = 1\n",
    "first_n_batches_train = 20\n",
    "\n",
    "for _ in range(num_epochs):\n",
    "    for i, (x, y) in enumerate(iter(train_loader)):\n",
    "        if i > first_n_batches_train:\n",
    "            break\n",
    "        # 1. pass x and y to our model(x,y) and guide (x,y)\n",
    "        # 2. compute the elbo\n",
    "        # 3. let the model update its parameters theta (gaussian variances)\n",
    "        # 4. let the guide update its parameters phi (also gaussian variances)\n",
    "        svi.step(x, y)\n",
    "\n",
    "# prediction\n",
    "def make_prediction(model, guide, x, y):\n",
    "    \n",
    "    trace = pyro.poutine.trace(guide).get_trace(x)\n",
    "    logits = pyro.poutine.replay(model, trace=trace)(x)\n",
    "\n",
    "    predictions = logits.argmax(-1)\n",
    "\n",
    "    acc = ((predictions == y).sum()/y.shape[0]).item()\n",
    "\n",
    "    print(f\"Batch acc = {acc}\")\n",
    "\n",
    "\n",
    "\n",
    "first_n_batches_test = 10\n",
    "\n",
    "test_predictions = [make_prediction(model, guide, x, y) for i, (x, y) in enumerate(test_loader) if i < first_n_batches_test]"
   ]
  },
  {
   "cell_type": "markdown",
   "metadata": {
    "id": "l6dRubBtqHwq"
   },
   "source": [
    "There are a few things to note here:\n",
    "* we had to touch the torch.nn.Module and use our knowledge of it\n",
    "* we had to have quite a bit of knowledge of pyro's internals\n",
    "* we do not have access to variance reduction techniques typically used in BNN training\n",
    "* testing is unnecessarily complicated. According to the [TyXe Paper (Appendix B)](https://arxiv.org/abs/2110.00276), this may be because  \n",
    "_„Pyro was primarily designed\" for a „smaller-scale Bayesian Workflow\" where one is interested in „modelling and making inferences on a given dataset rather than predicting on held-out test data“_.\n",
    "\n",
    "In the next section, we will see that the Pyro-based `BNN` library [TyXe](https://github.com/TyXe-BDL/TyXe/) solves these problems:  \n",
    "TyXe users only have to have familiarity with pytorch, and minimal knowledge of the `BNN` workflow."
   ]
  },
  {
   "cell_type": "markdown",
   "metadata": {
    "id": "l6dRubBtqHwq"
   },
   "source": [
    "## TyXe \n",
    "[TyXe](https://github.com/TyXe-BDL/TyXe/) (Ancient greek: goddess of chance) is built ontop of `Pyro` and was released in 2021 as  \n",
    "a `BNN` library aimed at hiding away most of what we had to do manually for our bayesian resnet above.  "
   ]
  },
  {
   "cell_type": "code",
   "execution_count": 13,
   "metadata": {},
   "outputs": [],
   "source": [
    "# first some more imports:\n",
    "import os\n",
    "import contextlib\n",
    "import functools\n",
    "from typing import List, Optional\n",
    "\n",
    "import tyxe # bnn library ontop of pyro\n",
    "\n",
    "from utils import make_loaders_bnns, make_net"
   ]
  },
  {
   "cell_type": "markdown",
   "metadata": {},
   "source": [
    "With Tyxe, the above `BNN` could have been as short as:"
   ]
  },
  {
   "cell_type": "code",
   "execution_count": 16,
   "metadata": {},
   "outputs": [],
   "source": [
    "# take an existing torch.nn.Module:\n",
    "resnet: torch.nn.Module = make_net(\"cifar10\", \"resnet18\", pretrained=False)\n",
    "\n",
    "# setup bnn:\n",
    "prior = tyxe.priors.IIDPrior(dist.Normal(0,1), expose_all=False, hide_module_types=(nn.BatchNorm2d,))\n",
    "likelihood = tyxe.likelihoods.Categorical(len(train_loader))\n",
    "guide = functools.partial(\n",
    "    tyxe.guides.AutoNormal, train_loc=False,\n",
    "    init_loc_fn=tyxe.guides.PretrainedInitializer.from_net(resnet)\n",
    ")\n",
    "bnn = tyxe.VariationalBNN(resnet, prior, likelihood, guide)\n",
    "\n",
    "# train bnn\n",
    "# (execute with care; very compute intensive, may be too much for cpu!)\n",
    "# bnn.fit(train_loader, optim=pyro.optim.Adam({\"lr\":1e-3}), num_epochs=1, device=\"gpu\" if USE_CUDA else \"cpu\")"
   ]
  },
  {
   "cell_type": "markdown",
   "metadata": {},
   "source": [
    "As you can see, users technically don't need to be familiar with `Pyro` to use `TyXe`.  \n",
    "With `TyXe` we've reached a level of abstraction appropriate for BNNs,  \n",
    "so let's explore the range of options `TyXe` offers for building them:"
   ]
  },
  {
   "cell_type": "code",
   "execution_count": 17,
   "metadata": {},
   "outputs": [],
   "source": [
    "# ----- PARAMETERS OF OUR BAYESIAN RESNET TRAINING USING TYXE ------\n",
    "\n",
    "# MODEL\n",
    "inference: str = \"mean-field\"\n",
    "architecture: str = \"resnet18\"\n",
    "dataset: str = \"cifar10\"\n",
    "pretrained: bool = False\n",
    "mock_dataset: bool = False\n",
    "\n",
    "# DATA\n",
    "train_batch_size: int = 10\n",
    "test_batch_size: int = 10\n",
    "num_epochs: int = 1\n",
    "test_samples: int = 20\n",
    "\n",
    "# MISC\n",
    "root: str = os.environ.get(\"DATASETS_PATH\", \"./data\")\n",
    "seed: int = 42\n",
    "output_dir: Optional[str] = None\n",
    "\n",
    "# BAYESIAN NEURAL NETWORK OPTIONS\n",
    "local_reparameterization: bool = False # important: variance reduction for gradients!\n",
    "flipout: bool = False # important: variance reduction for gradients!\n",
    "max_guide_scale: float = 0.1 # to prevent underfitting: clamp learned variance\n",
    "rank: int = 10 # low rank setting for inference == \"last-layer-low-rank\"\n",
    "scale_only: bool = False # train variance only, leaving means at pretrained values\n",
    "\n",
    "# OPTIMIZER\n",
    "lr: float = 0.001 # initial learning rate\n",
    "milestones: Optional[List[int]] = None # epochs at which to do scheduler step\n",
    "gamma: float = 0.1 # scheduler step factor\n",
    "\n",
    "# ----- check args: inference, architecture, dataset ------\n",
    "inference_options = [\n",
    "    \"mle\", # maximum likelihood estimation: weights = argmax p(data|weights)\n",
    "    \"map\", # maximum a posteriori inference: weights = argmax p(data|weights)*p(weights)\n",
    "    \"mean-field\", # svi with autonormal guide and diagonal covariance\n",
    "    \"last-layer-mean-field\", # svi for last layer only, autonormal guide and diagonal covariance\n",
    "    \"last-layer-full\", # svi for last layer only, autonormal guide and FULL covariance\n",
    "    \"last-layer-low-rank\" # svi for last layer only, low rank\n",
    "]\n",
    "assert inference in inference_options, inference\n",
    "\n",
    "resnets = [n for n in dir(torchvision.models) if (n.startswith(\"resnet\") or n.startswith(\"wide_resnet\")) and n[-1].isdigit()]\n",
    "assert architecture in resnets, architecture\n",
    "\n",
    "datasets = [\"cifar10\", \"cifar100\", \"mnist\"]\n",
    "assert dataset in datasets, dataset"
   ]
  },
  {
   "cell_type": "markdown",
   "metadata": {},
   "source": [
    "### Initialize our Dataset and Model\n",
    "* arbitrary pytorch datasets and models work\n",
    "* it is straightforward to go integrate TyXe into any existing Pytorch workflow\n",
    "* since we just start out with any `torch.nn.Module` and never touch its internals!"
   ]
  },
  {
   "cell_type": "code",
   "execution_count": 18,
   "metadata": {},
   "outputs": [
    {
     "name": "stdout",
     "output_type": "stream",
     "text": [
      "Files already downloaded and verified\n",
      "Files already downloaded and verified\n",
      "Using downloaded and verified file: ./data/test_32x32.mat\n"
     ]
    }
   ],
   "source": [
    "# ----- set up pyro & torch -----\n",
    "use_cuda = torch.cuda.is_available()\n",
    "device = torch.device(\"cuda\" if USE_CUDA else \"cpu\")\n",
    "\n",
    "# ----- set up dataset and model -----\n",
    "train_loader, test_loader, ood_loader = make_loaders_bnns(\n",
    "    dataset, root, train_batch_size, test_batch_size, use_cuda, mock_dataset\n",
    ")\n",
    "\n",
    "net: torch.nn.Module = make_net(dataset, architecture, pretrained=pretrained).to(device)"
   ]
  },
  {
   "cell_type": "markdown",
   "metadata": {},
   "source": [
    "### Set up ResNet to be Bayesian using TyXe\n",
    "\n",
    "Once again, to set up a Bayesian Model in TyXe we need to make a choice for each of the three ingredients:\n",
    "\n",
    "1. **Likelihood** - The Likelihood of our Training Data $p_\\theta({\\bf x}|{\\bf z})$.\n",
    "2. **Guide** - The Variational Distribution $q_\\phi({\\bf z}|{\\bf x})$. The Idea is to use the pretrained weights to initialize this Distribution.\n",
    "3. **Prior** - Our Prior Belief $p_\\theta({\\bf z})$ about the weights.\n",
    "\n",
    "Our choice for each of these three components does two things:\n",
    "* Determine the family of distributions the particular object may belong to.\n",
    "* Initialize the distribution's parameters.\n",
    "\n",
    "Let's go through the meaning and options for each of the three components, one by one."
   ]
  },
  {
   "cell_type": "markdown",
   "metadata": {},
   "source": [
    "#### __1. Setting up the Likelihood__\n",
    "\n",
    "The Likelihood of our Training Data $p_\\theta({\\bf x}|{\\bf z})$.  \n",
    "The support of the distribution must be equal in size to the number of training samples."
   ]
  },
  {
   "cell_type": "code",
   "execution_count": 17,
   "metadata": {},
   "outputs": [],
   "source": [
    "# Bernoulli, Categorical, HeteroskedasticGaussian, HomoskedasticGaussian\n",
    "likelihood = tyxe.likelihoods.Categorical(len(train_loader.sampler))\n",
    "\n",
    "# uncomment for documentation:\n",
    "# tyxe.likelihoods.HeteroskedasticGaussian?"
   ]
  },
  {
   "cell_type": "markdown",
   "metadata": {},
   "source": [
    "#### __2. Setting up our Guide__\n",
    "\n",
    "* The choice of the variational distribution is where most of our flexibility lies.  \n",
    "* We will use `Autoguide`s, either from `Pyro` or `TyXe`.  \n",
    "* The TyXe `BNN`s expect an only partially initialized `guide` object.  \n",
    "* Let's go through some of the options, which are all\n",
    "* practical approximations to **SVI** on the full model with full gaussian covariances, which is too expensive:  \n",
    "\n",
    "1. Maximum Likelihood: Just let the guide be `None`.\n",
    "2. Maximum a posteriori Inference: Because of [Math](https://github.com/pyro-ppl/pyro/issues/570), we can just use **Delta Distributions** as guides for this.\n",
    "3. Mean Field: Does **SVI** on full model with Independent Gaussians, i.e. **Diagonal Covariances** ($\\Rightarrow Training\\in\\mathcal{O}(\\#params)$ instead of $\\mathcal{O}(\\#params^6)$, [Oxford Blog Post](https://oatml.cs.ox.ac.uk/blog/2020/11/29/liberty_or_depth.html)) \n",
    "4. Last Layer: Because **SVI** on full model with **full covariances too expensive**, often only the last layer of a Big Conv Net is tuned\n",
    "\n",
    "See the Paper for a comparison of these methods both on CIFAR's test set and Out of domain data."
   ]
  },
  {
   "cell_type": "code",
   "execution_count": 18,
   "metadata": {},
   "outputs": [
    {
     "name": "stdout",
     "output_type": "stream",
     "text": [
      "Automatic Guide Families:\n",
      "['AutoCallable', 'AutoContinuous', 'AutoDelta', 'AutoDiagonalNormal', 'AutoDiscreteParallel', 'AutoGuide', 'AutoGuideList', 'AutoIAFNormal', 'AutoLaplaceApproximation', 'AutoLowRankMultivariateNormal', 'AutoMultivariateNormal', 'AutoNormal', 'AutoNormalizingFlow']\n"
     ]
    }
   ],
   "source": [
    "if inference == \"mle\":\n",
    "    # do maximum likelihood estimation\n",
    "    test_samples = 1\n",
    "    guide = None\n",
    "    \n",
    "elif inference == \"map\":\n",
    "    # maximum a posteriori inference \n",
    "    test_samples = 1\n",
    "    guide = functools.partial(\n",
    "        pyro.infer.autoguide.AutoDelta,\n",
    "        init_loc_fn=tyxe.guides.PretrainedInitializer.from_net(net)\n",
    "    )\n",
    "    \n",
    "elif inference == \"mean-field\":\n",
    "    # SVI with diagonal covariances\n",
    "    guide = functools.partial(\n",
    "        tyxe.guides.AutoNormal,\n",
    "        init_loc_fn=tyxe.guides.PretrainedInitializer.from_net(net),\n",
    "        init_scale=1e-4,\n",
    "        max_guide_scale=max_guide_scale, # prevent underfitting\n",
    "        train_loc=not scale_only # train gaussian means?\n",
    "    ) \n",
    "\n",
    "elif inference.startswith(\"last-layer\"):\n",
    "    # usually only done for pretrained network:\n",
    "    # if not pretrained:\n",
    "    #    raise ValueError(\"Asked to do last-layer inference, but no pre-trained weights were provided.\")\n",
    "    \n",
    "    # turning parameters except for last layer in buffers to avoid training them\n",
    "    # this might be avoidable via poutine.block\n",
    "    for module in net.modules():\n",
    "        if module is not net.fc:\n",
    "            for param_name, param in list(module.named_parameters(recurse=False)):\n",
    "                delattr(module, param_name)\n",
    "                module.register_buffer(param_name, param.detach().data)\n",
    "\n",
    "    if inference == \"last-layer-mean-field\":\n",
    "        guide = functools.partial(\n",
    "            tyxe.guides.AutoNormal, \n",
    "            init_loc_fn=tyxe.guides.PretrainedInitializer.from_net(net),\n",
    "            init_scale=1e-4\n",
    "        )\n",
    "        \n",
    "    elif inference == \"last-layer-full\":\n",
    "        guide = functools.partial(\n",
    "            pyro.infer.autoguide.AutoMultivariateNormal,\n",
    "            init_loc_fn=tyxe.guides.PretrainedInitializer.from_net(net),\n",
    "            init_scale=1e-4\n",
    "        )\n",
    "        \n",
    "    elif inference == \"last-layer-low-rank\":\n",
    "        guide = functools.partial(\n",
    "            pyro.infer.autoguide.AutoLowRankMultivariateNormal,\n",
    "            rank=rank,\n",
    "            init_loc_fn=tyxe.guides.PretrainedInitializer.from_net(net),\n",
    "            init_scale=1e-4\n",
    "        )\n",
    "        \n",
    "    else:\n",
    "        raise RuntimeError(f\"Invalid option for inference: '{inference}''\")\n",
    "else:\n",
    "    raise RuntimeError(f\"Invalid option for inference: '{inference}''\")\n",
    "\n",
    "print(\"Pyro's Automatic Guide Families:\")\n",
    "print([g for g in dir(pyro.infer.autoguide) if g.startswith(\"Auto\")])\n",
    "\n",
    "print(\"TyXe's Automatic Guide Families:\")\n",
    "print([g for g in dir(tyxe.guides) if g.startswith(\"Auto\")])\n",
    "\n",
    "# uncomment for documentation:\n",
    "# pyro.infer.autoguide.AutoDelta?"
   ]
  },
  {
   "cell_type": "markdown",
   "metadata": {},
   "source": [
    "You might have noticed  \n",
    "We actually secretly used the **Mean Field** assumption in the `Pyro` implementation, too,  \n",
    "Where we used `pyro.infer.autoguide.AutoNormal`.  \n",
    "instead of the full `pyro.infer.autoguide.AutoMultivariateNormal`  \n",
    "\n",
    "#### __2. Setting up our Prior__"
   ]
  },
  {
   "cell_type": "code",
   "execution_count": 19,
   "metadata": {},
   "outputs": [
    {
     "name": "stdout",
     "output_type": "stream",
     "text": [
      "Available Prior Distributions:\n",
      "['ABCMeta', 'DictPrior', 'IIDPrior', 'LambdaPrior', 'LayerwiseNormalPrior', 'Prior', 'PyroParam', 'PyroSample']\n"
     ]
    }
   ],
   "source": [
    "# it is standard practice to not be bayesian about batchnorm modules:\n",
    "prior_kwargs = {\n",
    "    \"expose_all\": False, # do not treat all nn.Modules with pyro \n",
    "    \"hide_module_types\": (nn.BatchNorm2d,) # specifically, ignore batchnorms\n",
    "}\n",
    "\n",
    "# our choice of guide impacts how we need to initialize the Prior:\n",
    "if inference == \"mle\":\n",
    "    # we dont want a prior for maximum likelihood estimation\n",
    "    prior_kwargs[\"hide_all\"] = True\n",
    "    \n",
    "elif inference.startswith(\"last-layer\"):\n",
    "    # only be bayesian about the final, fully connected layer\n",
    "    del prior_kwargs['hide_module_types']\n",
    "    prior_kwargs[\"expose_modules\"] = [net.fc]\n",
    "    \n",
    "prior = tyxe.priors.IIDPrior(\n",
    "    dist.Normal(\n",
    "        torch.zeros(1, device=device),\n",
    "        torch.ones(1, device=device)\n",
    "    ),\n",
    "    **prior_kwargs\n",
    ")\n",
    "\n",
    "print(\"TyXe's Available Prior Distributions:\")\n",
    "print([p for p in dir(tyxe.priors) if p.endswith(\"Prior\")])\n",
    "\n",
    "# uncomment for documentation:\n",
    "# tyxe.priors.IIDPrior?"
   ]
  },
  {
   "cell_type": "markdown",
   "metadata": {},
   "source": [
    "Thats it! We're ready to set up our BNN:"
   ]
  },
  {
   "cell_type": "code",
   "execution_count": 20,
   "metadata": {},
   "outputs": [],
   "source": [
    "# Finally set up our VariationalBNN!\n",
    "bnn = tyxe.VariationalBNN(\n",
    "    net, prior, likelihood, guide\n",
    ")\n",
    "\n",
    "# uncomment for documentation:\n",
    "# bnn?"
   ]
  },
  {
   "cell_type": "markdown",
   "metadata": {},
   "source": [
    "#### Variance Reduction\n",
    "\n",
    "* One important thing in __SVI__ we haven't touched on is gradient variance reduction.\n",
    "* Though `Pyro` provides many variance reduction [techniques](https://docs.pyro.ai/en/stable/infer.reparam.html) and [tutorials](http://pyro.ai/examples/svi_part_iii.html#Variance-or-Why-I-Wish-I-Was-Doing-MLE-Deep-Learning),\n",
    "* `TyXe` provides some context managers specific to its `BNN`s:"
   ]
  },
  {
   "cell_type": "code",
   "execution_count": 21,
   "metadata": {},
   "outputs": [],
   "source": [
    "# gradient variance reduction techniques:\n",
    "if local_reparameterization:\n",
    "    if flipout:\n",
    "        raise RuntimeError(\"Can't use both local reparameterization and flipout, pick one.\")\n",
    "    train_context = tyxe.poutine.local_reparameterization\n",
    "elif flipout:\n",
    "    train_context = tyxe.poutine.flipout\n",
    "else:\n",
    "    train_context = contextlib.nullcontext"
   ]
  },
  {
   "cell_type": "markdown",
   "metadata": {},
   "source": [
    "#### Optimizer and evaluation"
   ]
  },
  {
   "cell_type": "code",
   "execution_count": 10,
   "metadata": {},
   "outputs": [
    {
     "ename": "NameError",
     "evalue": "name 'milestones' is not defined",
     "output_type": "error",
     "traceback": [
      "\u001b[0;31m---------------------------------------------------------------------------\u001b[0m",
      "\u001b[0;31mNameError\u001b[0m                                 Traceback (most recent call last)",
      "Input \u001b[0;32mIn [10]\u001b[0m, in \u001b[0;36m<module>\u001b[0;34m\u001b[0m\n\u001b[1;32m      1\u001b[0m \u001b[38;5;66;03m# pyro-specific: optimizer must come from pyro.optim\u001b[39;00m\n\u001b[0;32m----> 2\u001b[0m \u001b[38;5;28;01mif\u001b[39;00m \u001b[43mmilestones\u001b[49m \u001b[38;5;129;01mis\u001b[39;00m \u001b[38;5;28;01mNone\u001b[39;00m:\n\u001b[1;32m      3\u001b[0m     optim \u001b[38;5;241m=\u001b[39m pyro\u001b[38;5;241m.\u001b[39moptim\u001b[38;5;241m.\u001b[39mAdam({\u001b[38;5;124m\"\u001b[39m\u001b[38;5;124mlr\u001b[39m\u001b[38;5;124m\"\u001b[39m: lr})\n\u001b[1;32m      4\u001b[0m \u001b[38;5;28;01melse\u001b[39;00m:\n",
      "\u001b[0;31mNameError\u001b[0m: name 'milestones' is not defined"
     ]
    }
   ],
   "source": [
    "# pyro-specific: optimizer must come from pyro.optim\n",
    "if milestones is None:\n",
    "    optim = pyro.optim.Adam({\"lr\": lr})\n",
    "else:\n",
    "    optimizer = torch.optim.Adam\n",
    "    optim = pyro.optim.MultiStepLR({\"optimizer\": optimizer, \"optim_args\": {\"lr\": lr}, \"milestones\": milestones, \"gamma\": gamma})\n",
    "\n",
    "print(\"All typical pytorch optimizers & schedulers are supported by pyro.optim:\")\n",
    "print([opt for opt in dir(pyro.optim) if \"_\" not in opt and opt[0] == opt[0].upper()])\n",
    "    \n",
    "# tyXe-specific: evaluation and logging done after every epoch:\n",
    "def callback(\n",
    "        b: tyxe.VariationalBNN, # bnn\n",
    "        i: int, # epoch number\n",
    "        avg_elbo: float # mean elbo this epoch\n",
    "    ):\n",
    "    avg_err, avg_ll = 0., 0.\n",
    "    \n",
    "    for x, y in iter(test_loader):\n",
    "        err, ll = b.evaluate(x.to(device), y.to(device), num_predictions=test_samples)\n",
    "        avg_err += err / len(test_loader.sampler)\n",
    "        avg_ll += ll / len(test_loader.sampler)\n",
    "        \n",
    "    print(f\"ELBO={avg_elbo}; test error={100 * avg_err:.2f}%; LL={avg_ll:.4f}\")"
   ]
  },
  {
   "cell_type": "markdown",
   "metadata": {},
   "source": [
    "#### Training"
   ]
  },
  {
   "cell_type": "code",
   "execution_count": null,
   "metadata": {},
   "outputs": [],
   "source": [
    "# ------ TRAIN THE MODEL ------\n",
    "with train_context():\n",
    "    bnn.fit(train_loader, optim, num_epochs, callback=callback, device=device)"
   ]
  },
  {
   "cell_type": "markdown",
   "metadata": {},
   "source": [
    "## That's it!\n",
    "This notebook and its dependencies were assembled from, in rough order:  \n",
    "* [Pyro/Examples/Intro](http://pyro.ai/examples/intro_long.html)\n",
    "* [Pyro/Examples/SVI_Intro](http://pyro.ai/examples/svi_part_i.html)\n",
    "* [Pyro/Examples/VAE](http://pyro.ai/examples/vae.html)\n",
    "* [TyXe Paper (Appendix B Pyro Example)](https://arxiv.org/abs/2110.00276)\n",
    "* [TyXe Resnet Example](https://github.com/TyXe-BDL/TyXe/blob/master/examples/resnet.py)"
   ]
  },
  {
   "cell_type": "code",
   "execution_count": null,
   "metadata": {},
   "outputs": [],
   "source": []
  }
 ],
 "metadata": {
  "anaconda-cloud": {},
  "colab": {
   "name": "mia_intro.ipynb",
   "provenance": []
  },
  "kernelspec": {
   "display_name": "bayes",
   "language": "python",
   "name": "bayes"
  },
  "language_info": {
   "codemirror_mode": {
    "name": "ipython",
    "version": 3
   },
   "file_extension": ".py",
   "mimetype": "text/x-python",
   "name": "python",
   "nbconvert_exporter": "python",
   "pygments_lexer": "ipython3",
   "version": "3.8.10"
  }
 },
 "nbformat": 4,
 "nbformat_minor": 4
}
